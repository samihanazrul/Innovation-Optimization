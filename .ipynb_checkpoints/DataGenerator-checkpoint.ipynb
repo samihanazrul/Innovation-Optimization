{
 "cells": [
  {
   "cell_type": "code",
   "execution_count": 6,
   "id": "35c5a384-81eb-4c97-b72b-c473515c7524",
   "metadata": {
    "tags": []
   },
   "outputs": [
    {
     "name": "stdout",
     "output_type": "stream",
     "text": [
      "            Product      Pack    Product_Type Promotion    Placement  \\\n",
      "0         Shampoo-1  Standard         Shampoo        No  Local Store   \n",
      "1  Toilet Cleaner-2  Standard         Shampoo        No       Online   \n",
      "2      Toothpaste-3   Premium      Toothpaste       Yes  Supermarket   \n",
      "3  Toilet Cleaner-4   Premium      Toothpaste       Yes  Supermarket   \n",
      "4         Shampoo-5   Premium  Toilet Cleaner       Yes  Supermarket   \n",
      "\n",
      "   Price_API   Proposition Launch_Month  Launch_Year   Region  iTO_Target  \\\n",
      "0       1.14  Eco-friendly       August         2022    Dhaka           3   \n",
      "1       0.53  Eco-friendly     February         2018     Feni           3   \n",
      "2       0.78  Eco-friendly      October         2019    Dhaka           4   \n",
      "3       0.72       Organic     November         2019     Feni           4   \n",
      "4       1.24  Eco-friendly      January         2018  Comilla           4   \n",
      "\n",
      "   iTO_Achievement  Success  \n",
      "0                1        0  \n",
      "1                0        0  \n",
      "2                1        0  \n",
      "3                4        1  \n",
      "4                0        0  \n"
     ]
    }
   ],
   "source": [
    "import pandas as pd\n",
    "from faker import Faker\n",
    "import random\n",
    "\n",
    "# Set seed for reproducibility\n",
    "random.seed(42)\n",
    "\n",
    "# Initialize Faker\n",
    "fake = Faker()\n",
    "\n",
    "# Number of projects\n",
    "num_projects = 400\n",
    "\n",
    "# Generate dummy data for the project\n",
    "data = {\n",
    "    'Product': [fake.random_element(['Shampoo', 'Toothpaste', 'Toilet Cleaner']) + f'-{i}' for i in range(1, num_projects + 1)],\n",
    "    'Pack': [fake.random_element(['Standard', 'Premium']) for _ in range(num_projects)],\n",
    "    'Product_Type': [fake.random_element(['Shampoo', 'Toothpaste', 'Toilet Cleaner']) for _ in range(num_projects)],\n",
    "    'Promotion': [fake.random_element(['Yes', 'No']) for _ in range(num_projects)],\n",
    "    'Placement': [fake.random_element(['Supermarket', 'Online', 'Local Store']) for _ in range(num_projects)],\n",
    "    'Price_API': [round(random.uniform(0.5, 1.5), 2) for _ in range(num_projects)],\n",
    "    'Proposition': [fake.random_element(['Eco-friendly', 'Organic', 'New Flavor']) for _ in range(num_projects)],\n",
    "    'Launch_Month': [fake.random_element(['January', 'February', 'March', 'April', 'May', 'June', 'July', 'August', 'September', 'October', 'November', 'December']) for _ in range(num_projects)],\n",
    "    'Launch_Year': [fake.random_element([2018, 2019, 2020, 2021, 2022]) for _ in range(num_projects)],\n",
    "    'Region': [fake.random_element(['Rajshahi', 'Dhaka', 'Chittagong', 'Comilla', 'Feni']) for _ in range(num_projects)],\n",
    "    'iTO_Target': [fake.random_element([1, 2, 3, 4, 5]) for _ in range(num_projects)],\n",
    "    'iTO_Achievement': [fake.random_element([0, 1, 2, 3, 4, 5]) for _ in range(num_projects)],\n",
    "}\n",
    "\n",
    "# Create a DataFrame\n",
    "df = pd.DataFrame(data)\n",
    "\n",
    "# Calculate Success based on iTO_Target and iTO_Achievement\n",
    "df['Success'] = (df['iTO_Achievement'] >= df['iTO_Target']).astype(int)\n",
    "\n",
    "# Display the DataFrame\n",
    "print(df.head())\n",
    "\n",
    "# Save the DataFrame to a CSV file\n",
    "df.to_csv('innovation_optimization_data.csv', index=False)\n"
   ]
  },
  {
   "cell_type": "code",
   "execution_count": null,
   "id": "ec6a7f48-1f7e-4f73-a751-72f052053cb9",
   "metadata": {},
   "outputs": [],
   "source": []
  }
 ],
 "metadata": {
  "kernelspec": {
   "display_name": "Python 3 (ipykernel)",
   "language": "python",
   "name": "python3"
  },
  "language_info": {
   "codemirror_mode": {
    "name": "ipython",
    "version": 3
   },
   "file_extension": ".py",
   "mimetype": "text/x-python",
   "name": "python",
   "nbconvert_exporter": "python",
   "pygments_lexer": "ipython3",
   "version": "3.11.5"
  }
 },
 "nbformat": 4,
 "nbformat_minor": 5
}
